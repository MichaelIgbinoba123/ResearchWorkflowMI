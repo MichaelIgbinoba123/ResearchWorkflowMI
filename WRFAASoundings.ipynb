{
 "cells": [
  {
   "cell_type": "code",
   "execution_count": null,
   "id": "366c9d33",
   "metadata": {},
   "outputs": [],
   "source": [
    "import numpy as np\n",
    "import pymeteo.skewt as skewt\n",
    "import xarray as xr\n",
    "import matplotlib.pyplot as plt\n",
    "\n",
    "# Load WRF data using xarray\n",
    "wrf_data = xr.open_dataset(\"wrfou.nc\")"
   ]
  },
  {
   "cell_type": "code",
   "execution_count": null,
   "id": "ba61f817",
   "metadata": {},
   "outputs": [],
   "source": [
    "# Extract variables\n",
    "PH = wrf_data['PH']\n",
    "PHB = wrf_data['PHB']\n",
    "T = wrf_data['T']\n",
    "P = wrf_data['P']\n",
    "PB = wrf_data['PB']\n",
    "U = wrf_data['U']\n",
    "V = wrf_data['V']\n",
    "QV = wrf_data['QVAPOR']"
   ]
  },
  {
   "cell_type": "code",
   "execution_count": null,
   "id": "1b31f097",
   "metadata": {},
   "outputs": [],
   "source": [
    "# Calculate pressure, theta, and geopotential height\n",
    "PRES = (P + PB) * 0.01\n",
    "TH = (T + 300) \n",
    "Z = (((PH + PHB.shift(south_north=-1)) / 2) + ((PHB + PHB.shift(south_north=-1)) / 2)) / 9.81"
   ]
  },
  {
   "cell_type": "code",
   "execution_count": null,
   "id": "4217f5df",
   "metadata": {},
   "outputs": [],
   "source": [
    "# Average variables over latitude and longitude\n",
    "Z_mean = Z.mean(dim=['south_north', 'west_east'])\n",
    "TH_mean = TH.mean(dim=['south_north', 'west_east'])\n",
    "PRES_mean = PRES.mean(dim=['south_north', 'west_east'])\n",
    "U_mean = U.mean(dim=['south_north', 'west_east_stag'])\n",
    "V_mean = V.mean(dim=['south_north_stag', 'west_east'])\n",
    "QV_mean = QV.mean(dim=['south_north', 'west_east'])"
   ]
  },
  {
   "cell_type": "code",
   "execution_count": null,
   "id": "e3632ee2",
   "metadata": {},
   "outputs": [],
   "source": [
    "# Ensure dimensions match by selecting the first time step\n",
    "Z_mean = Z_mean.isel(Time=0)\n",
    "TH_mean = TH_mean.isel(Time=0)\n",
    "PRES_mean = PRES_mean.isel(Time=0)\n",
    "U_mean = U_mean.isel(Time=0)\n",
    "V_mean = V_mean.isel(Time=0)\n",
    "QV_mean = QV_mean.isel(Time=0)"
   ]
  },
  {
   "cell_type": "code",
   "execution_count": null,
   "id": "61a67336",
   "metadata": {},
   "outputs": [],
   "source": [
    "# Clip last value to fit shape requirements\n",
    "Z_mean = Z_mean[:50]"
   ]
  },
  {
   "cell_type": "code",
   "execution_count": null,
   "id": "ec7c7bcd",
   "metadata": {},
   "outputs": [],
   "source": [
    "# Print if anything is NaN\n",
    "print(np.isnan(Z_mean).any())\n",
    "print(np.isnan(TH_mean).any())\n",
    "print(np.isnan(PRES_mean).any())\n",
    "print(np.isnan(U_mean).any())\n",
    "print(np.isnan(V_mean).any())\n",
    "print(np.isnan(QV_mean).any())"
   ]
  },
  {
   "cell_type": "code",
   "execution_count": null,
   "id": "728310a2",
   "metadata": {},
   "outputs": [],
   "source": [
    "# Plot Skew-T diagram\n",
    "fig, ax = plt.subplots(figsize=(8, 8))\n",
    "\n",
    "# Flatten and convert to numpy arrays\n",
    "z_values = Z_mean\n",
    "th_values = TH_mean\n",
    "pres_values = PRES_mean\n",
    "u_values = U_mean\n",
    "v_values = V_mean\n",
    "qv_values = QV_mean \n",
    "\n",
    "print(f\"Height values: {z_values}\")\n",
    "print(f\"Potential Temperature Values: {th_values}\")\n",
    "print(f\"Pressure Values: {pres_values}\")\n",
    "print(f\"Zonal Wind Values: {u_values}\")\n",
    "print(f\"Meridonal Wind Values: {v_values}\")\n",
    "print(f\"Mixing Ratio Values: {qv_values}\")"
   ]
  },
  {
   "cell_type": "code",
   "execution_count": null,
   "id": "3ac7587f",
   "metadata": {},
   "outputs": [],
   "source": [
    "# Plot Skew-T diagram\n",
    "skewt.plot_sounding(ax, z=z_values, th=th_values, p=pres_values, qv=qv_values, u=u_values, v=v_values)\n",
    "\n",
    "plt.show()"
   ]
  }
 ],
 "metadata": {
  "kernelspec": {
   "display_name": "Python 3 (ipykernel)",
   "language": "python",
   "name": "python3"
  },
  "language_info": {
   "codemirror_mode": {
    "name": "ipython",
    "version": 3
   },
   "file_extension": ".py",
   "mimetype": "text/x-python",
   "name": "python",
   "nbconvert_exporter": "python",
   "pygments_lexer": "ipython3",
   "version": "3.11.5"
  }
 },
 "nbformat": 4,
 "nbformat_minor": 5
}
