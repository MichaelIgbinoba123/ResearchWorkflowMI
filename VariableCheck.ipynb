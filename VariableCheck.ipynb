{
 "cells": [
  {
   "cell_type": "code",
   "execution_count": 3,
   "id": "77536703",
   "metadata": {},
   "outputs": [
    {
     "name": "stdout",
     "output_type": "stream",
     "text": [
      "\n",
      "Variable Information:\n",
      "\n",
      "Variable: IR\n",
      "Dimensions: ('y', 'x')\n",
      "Shape: (1500, 2500)\n",
      "Attributes: {'_FillValue': nan, 'coordinates': 'file_time latitude longitude'}\n",
      "\n",
      "Variable: WVU\n",
      "Dimensions: ('y', 'x')\n",
      "Shape: (1500, 2500)\n",
      "Attributes: {'_FillValue': nan, 'coordinates': 'file_time latitude longitude'}\n",
      "\n",
      "Variable: WVM\n",
      "Dimensions: ('y', 'x')\n",
      "Shape: (1500, 2500)\n",
      "Attributes: {'_FillValue': nan, 'coordinates': 'file_time latitude longitude'}\n",
      "\n",
      "Variable: WVL\n",
      "Dimensions: ('y', 'x')\n",
      "Shape: (1500, 2500)\n",
      "Attributes: {'_FillValue': nan, 'coordinates': 'file_time latitude longitude'}\n",
      "\n",
      "Variable: latitude\n",
      "Dimensions: ('y', 'x')\n",
      "Shape: (1500, 2500)\n",
      "Attributes: {'_FillValue': nan}\n",
      "\n",
      "Variable: longitude\n",
      "Dimensions: ('y', 'x')\n",
      "Shape: (1500, 2500)\n",
      "Attributes: {'_FillValue': nan}\n",
      "\n",
      "Variable: file_time\n",
      "Dimensions: ()\n",
      "Shape: ()\n",
      "Attributes: {'units': 'days since 2019-09-01 16:22:34.900000', 'calendar': 'proleptic_gregorian'}\n"
     ]
    }
   ],
   "source": [
    "# Import necessary modules and access file\n",
    "import numpy as np\n",
    "import matplotlib.pyplot as plt\n",
    "from netCDF4 import Dataset\n",
    "\n",
    "# Access the NetCDF file\n",
    "Data = Dataset(\"GOESData.nc\")\n",
    "\n",
    "print(\"\\nVariable Information:\")\n",
    "for var_name in Data.variables:\n",
    "    var = Data[var_name]\n",
    "    print(f\"\\nVariable: {var_name}\")\n",
    "    print(f\"Dimensions: {var.dimensions}\")\n",
    "    print(f\"Shape: {var.shape}\")\n",
    "    print(f\"Attributes: {var.__dict__}\")\n"
   ]
  },
  {
   "cell_type": "code",
   "execution_count": null,
   "id": "c4b173a1",
   "metadata": {},
   "outputs": [],
   "source": []
  }
 ],
 "metadata": {
  "kernelspec": {
   "display_name": "Python 3 (ipykernel)",
   "language": "python",
   "name": "python3"
  },
  "language_info": {
   "codemirror_mode": {
    "name": "ipython",
    "version": 3
   },
   "file_extension": ".py",
   "mimetype": "text/x-python",
   "name": "python",
   "nbconvert_exporter": "python",
   "pygments_lexer": "ipython3",
   "version": "3.11.5"
  }
 },
 "nbformat": 4,
 "nbformat_minor": 5
}
